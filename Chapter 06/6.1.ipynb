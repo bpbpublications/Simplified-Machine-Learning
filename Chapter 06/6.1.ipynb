from sklearn.datasets import make_classification
from sklearn.feature_selection import RFE
from sklearn.linear_model import LogisticRegression

# Create a synthetic dataset
X, y = make_classification(n_samples=100, n_features=10, random_state=42)

# Create a logistic regression model
model = LogisticRegression()

# Create an RFE model
rfe = RFE(model, n_features_to_select=5)  # Select the top 5 features

# Fit RFE on the data
rfe.fit(X, y)

# List of selected features (Boolean mask)
selected_features = rfe.support_

print("Selected Features:", selected_features)



 

