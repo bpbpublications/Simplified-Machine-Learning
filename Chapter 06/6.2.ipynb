from sklearn.feature_selection import VarianceThreshold

# Create a synthetic dataset
X = [[1, 2, 3],
     [1, 2, 3],
     [1, 2, 3],
     [1, 2, 0],
     [1, 2, 0]]

# Set a variance threshold
threshold = 0.1

# Apply variance threshold
selector = VarianceThreshold(threshold=threshold)
X_new = selector.fit_transform(X)

# Selected features
print(X_new)


 
