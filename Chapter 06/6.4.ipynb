from sklearn.datasets import load_iris
from sklearn.feature_selection import RFE
from sklearn.linear_model import LogisticRegression
from sklearn.model_selection import train_test_split
from sklearn.metrics import accuracy_score

# Load a smaller subset of the Iris dataset
iris = load_iris()
X, y = iris.data, iris.target

# Split the data into training and testing sets
X_train, X_test, y_train, y_test = train_test_split(X, y, test_size=0.2, random_state=42)

# Create a logistic regression model
model = LogisticRegression()

# Create an RFE model with 2 features
num_features_to_select = 2
rfe = RFE(model, n_features_to_select=num_features_to_select)

# Fit RFE on the training data
X_train_new = rfe.fit_transform(X_train, y_train)
X_test_new = rfe.transform(X_test)

# Train the model on the selected features
model.fit(X_train_new, y_train)

# Evaluate the model on the test set
y_pred = model.predict(X_test_new)
accuracy = accuracy_score(y_test, y_pred)
print("Accuracy:", accuracy)

# Selected features for training and testing data
print("Selected features for training data:")
print(X_train_new)
print("Selected features for testing data:")
print(X_test_new)
