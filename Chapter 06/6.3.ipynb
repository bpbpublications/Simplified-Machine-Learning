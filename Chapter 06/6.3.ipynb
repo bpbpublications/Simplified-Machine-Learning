from sklearn.feature_selection import SelectKBest, chi2, mutual_info_classif, f_classif

# Create a synthetic dataset with class labels
X = [[1, 2, 3],
     [4, 5, 6],
     [7, 8, 9]]
y = [0, 1, 0]

# Select the top 2 features using chi-squared
k_chi2 = 2
selector_chi2 = SelectKBest(chi2, k=k_chi2)
X_new_chi2 = selector_chi2.fit_transform(X, y)

# Select the top 2 features using mutual information
k_mi = 2
selector_mi = SelectKBest(mutual_info_classif, k=k_mi)
X_new_mi = selector_mi.fit_transform(X, y)

# Select the top 2 features using ANOVA F-statistic
k_f_statistic = 2
selector_f_statistic = SelectKBest(f_classif, k=k_f_statistic)
X_new_f_statistic = selector_f_statistic.fit_transform(X, y)

# Print selected features for each method
print("Selected Features using Chi-squared:")
print(X_new_chi2)

print("\nSelected Features using Mutual Information:")
print(X_new_mi)

print("\nSelected Features using ANOVA F-statistic:")
print(X_new_f_statistic)



 
