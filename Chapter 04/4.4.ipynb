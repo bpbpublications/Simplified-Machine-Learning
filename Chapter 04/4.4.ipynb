import numpy as np
import matplotlib.pyplot as plt
from sklearn.datasets import make_classification
from sklearn.tree import DecisionTreeClassifier, export_text
from sklearn.model_selection import train_test_split
from sklearn.metrics import accuracy_score

# Generate a synthetic dataset for illustration
X, y = make_classification(n_samples=100, n_features=2, n_informative=2, n_redundant=0, random_state=42)

# Split the dataset into training and testing sets
X_train, X_test, y_train, y_test = train_test_split(X, y, test_size=0.2, random_state=42)

# Create a CART classifier
cart_classifier = DecisionTreeClassifier(random_state=42)

# Fit the classifier on the training data
cart_classifier.fit(X_train, y_train)

# Make predictions on the test data
y_pred = cart_classifier.predict(X_test)

# Evaluate the accuracy of the classifier
accuracy = accuracy_score(y_test, y_pred)
print(f'Accuracy: {accuracy:.2f}')

# Display the tree structure
tree_rules = export_text(cart_classifier, feature_names=['Feature 1', 'Feature 2'])
print("Decision Tree Rules:")
print(tree_rules)


 
