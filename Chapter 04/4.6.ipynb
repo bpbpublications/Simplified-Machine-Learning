import math

# Define a toy dataset (features and labels)
data = [
    {'feature_1': 1, 'feature_2': 0, 'label': 'A'},
    {'feature_1': 0, 'feature_2': 1, 'label': 'B'},
    {'feature_1': 1, 'feature_2': 1, 'label': 'A'},
    {'feature_1': 0, 'feature_2': 0, 'label': 'B'},
    {'feature_1': 1, 'feature_2': 0, 'label': 'B'},
    # ... (more data points)
]

# Calculate Gini index for a dataset
def calculate_gini(data):
    total_count = len(data)
    label_counts = {}
    
    for record in data:
        label = record['label']
        if label not in label_counts:
            label_counts[label] = 0
        label_counts[label] += 1
    
    gini_index = 1.0
    for label in label_counts:
        probability = label_counts[label] / total_count
        gini_index -= probability ** 2
        
    return gini_index

# Split the dataset based on a feature and value
def split_dataset(data, feature, value):
    left = [record for record in data if record[feature] == value]
    right = [record for record in data if record[feature] != value]
    return left, right

# Select the best split based on Gini index
def select_best_split(data, features):
    best_gini = 1.0
    best_split = None
    
    for feature in features:
        values = set(record[feature] for record in data)
        
        for value in values:
            left, right = split_dataset(data, feature, value)
            
            if not left or not right:
                continue
            
            gini_left = calculate_gini(left)
            gini_right = calculate_gini(right)
            
            weighted_gini = (len(left) / len(data)) * gini_left + (len(right) / len(data)) * gini_right
            
            if weighted_gini < best_gini:
                best_gini = weighted_gini
                best_split = (feature, value, gini_left, gini_right)
    
    return best_split

# Recursive function to build the decision tree
def build_tree(data, features):
    if len(set(record['label'] for record in data)) == 1:
        return data[0]['label']
    
    if len(features) == 0:
        return max(set(record['label'] for record in data), key=[record['label'] for record in data].count)
    
    best_split = select_best_split(data, features)
    
    if not best_split:
        return max(set(record['label'] for record in data), key=[record['label'] for record in data].count)
    
    feature, value, _, _ = best_split
    tree = {feature: {}}
    
    left, right = split_dataset(data, feature, value)
    features.remove(feature)
    
    tree[feature][value] = build_tree(left, features.copy())
    tree[feature]['other'] = build_tree(right, features.copy())
    
    return tree

# Main function to build and print the decision tree
def main():
    features = list(data[0].keys())
    features.remove('label')
    tree = build_tree(data, features)
    print(tree)

if __name__ == '__main__':
    main()

 
