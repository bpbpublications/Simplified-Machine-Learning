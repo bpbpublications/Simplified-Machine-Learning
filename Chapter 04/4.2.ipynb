from sklearn.neighbors import KNeighborsClassifier
from sklearn.model_selection import train_test_split
from sklearn.metrics import accuracy_score, classification_report
from sklearn.datasets import load_iris

# Load the Iris dataset (a built-in dataset in scikit-learn)
data = load_iris()
X = data.data  # Features
y = data.target  # Target (class labels)

# Split the data into training and testing sets
X_train, X_test, y_train, y_test = train_test_split(X, y, test_size=0.2, random_state=42)

# Create a KNN classifier with a specified number of neighbors (K)
k = 3
knn_classifier = KNeighborsClassifier(n_neighbors=k)

# Fit the model to the training data
knn_classifier.fit(X_train, y_train)

# Make predictions on the test data
y_pred = knn_classifier.predict(X_test)

# Calculate the accuracy and print the classification report
accuracy = accuracy_score(y_test, y_pred)
report = classification_report(y_test, y_pred, target_names=data.target_names)

print("Accuracy:", accuracy)
print("\nClassification Report:\n", report)


 

