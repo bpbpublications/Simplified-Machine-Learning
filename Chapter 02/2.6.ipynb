import pandas as pd

# Sample DataFrame with a categorical column
data = {'Category': ['A', 'B', 'A', 'C', 'B', 'A']}

df = pd.DataFrame(data)

# Display the original DataFrame
print("Original DataFrame:")
print(df)

# One-Hot Encoding
one_hot_encoded_df = pd.get_dummies(df, columns=['Category'], prefix=['Category'])

# Label Encoding (using category codes)
label_encoded_df = df.copy()
label_encoded_df['Category'] = df['Category'].astype('category').cat.codes

# Binary Encoding (using category codes to binary)
binary_encoded_df = df.copy()
binary_encoded_df['Category'] = df['Category'].astype('category').cat.codes.apply(lambda x: bin(x)[2:].zfill(2))

# Display the DataFrames after encoding
print("\nDataFrame after One-Hot Encoding:")
print(one_hot_encoded_df)

print("\nDataFrame after Label Encoding:")
print(label_encoded_df)

print("\nDataFrame after Binary Encoding:")
print(binary_encoded_df)


 

