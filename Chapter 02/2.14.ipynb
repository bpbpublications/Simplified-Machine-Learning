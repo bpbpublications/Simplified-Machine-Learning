import numpy as np
from sklearn.pre-processing import MinMaxScaler

# Sample data
data = np.array([[10, 20],
                 [15, 30],
                 [5, 10],
                 [25, 40]])

# Create a MinMaxScaler instance
scaler = MinMaxScaler()

# Fit the scaler to the data and transform the data
normalized_data = scaler.fit_transform(data)

# Display the normalized data
print("Normalized Data:")
print(normalized_data)


 
