import pandas as pd

# Sample DataFrame with inconsistent data
data = {'Category': ['Electronics', 'Electronics', 'electronics', 'Clothing', 'clothing'],
        'Price': [500, 600, 550, 40, 45]}

df = pd.DataFrame(data)

# Display the original DataFrame
print("Original DataFrame:")
print(df)

# Standardize inconsistent data
# Convert 'Category' column to lowercase to standardize case
df['Category'] = df['Category'].str.lower()

# Display the DataFrame after standardizing data
print("\nDataFrame after handling inconsistent data:")
print(df)



 
