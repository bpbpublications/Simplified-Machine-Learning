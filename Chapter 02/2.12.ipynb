import pandas as pd

# Sample data
data = {'Date': ['2021-01-01', '2021-01-01', '2021-01-02', '2021-01-02'],
        'Sales': [1000, 1200, 800, 900]}

df = pd.DataFrame(data)

# Display the original DataFrame
print("Original DataFrame:")
print(df)

# Data aggregation: Sum of sales by date
aggregated_df = df.groupby('Date')['Sales'].sum().reset_index()

# Display the aggregated DataFrame
print("\nAggregatedDataFrame (Sum of Sales by Date):")
print(aggregated_df)


 
