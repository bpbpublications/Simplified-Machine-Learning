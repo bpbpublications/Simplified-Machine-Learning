import pandas as pd
import numpy as np

# Sample DataFrame with missing values
data = {'A': [1, 2, np.nan, 4, 5],
        'B': [np.nan, 2, 3, np.nan, 5],
        'C': [1, 2, 3, 4, 5]}

df = pd.DataFrame(data)

# Display the original DataFrame
print("Original DataFrame:")
print(df)

# Impute missing values using mean for numeric columns
df['A'].fillna(df['A'].mean(), inplace=True)
df['B'].fillna(df['B'].mean(), inplace=True)

# Display the DataFrame after imputation
print("\nDataFrame after imputation:")
print(df)


 

