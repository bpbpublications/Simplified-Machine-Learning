import pandas as pd
import numpy as np

# Sample dataset with synthetic features
data = {'Age': [25, 30, 35, 40, 45],
        'Income': [50000, 60000, 75000, 80000, 90000],
        'Education': ['High School', 'Bachelor', 'Master', 'PhD', 'Bachelor']}

df = pd.DataFrame(data)

# Display the original DataFrame
print("Original DataFrame:")
print(df)

# Feature Engineering: Create new features
# 1. Age Group
df['Age Group'] = pd.cut(df['Age'], bins=[0, 30, 40, np.inf], labels=['Young', 'Mid-Age', 'Old'])

# 2. Income Level
df['Income Level'] = pd.cut(df['Income'], bins=[0, 60000, 80000, np.inf], labels=['Low', 'Medium', 'High'])

# 3. Binary Education Indicator (Bachelor's degree or higher)
df['Bachelor or Higher'] = (df['Education'] != 'High School').astype(int)

# Display the DataFrame after feature engineering
print("\nDataFrame after feature engineering:")
print(df)


 
