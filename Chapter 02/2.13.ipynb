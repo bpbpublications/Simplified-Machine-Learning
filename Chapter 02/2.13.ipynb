import numpy as np
from sklearn.model_selection import train_test_split

# Sample dataset (features and labels)
X = np.random.rand(100, 2)  # 100 samples with 2 features
y = np.random.randint(0, 2, 100)  # Binary labels (0 or 1)

# Split the data into training, validation, and test sets
X_train, X_temp, y_train, y_temp = train_test_split(X, y, test_size=0.4, random_state=42)
X_valid, X_test, y_valid, y_test = train_test_split(X_temp, y_temp, test_size=0.5, random_state=42)

# Display the sizes of the resulting sets
print("Training set size:", X_train.shape[0])
print("Validation set size:", X_valid.shape[0])
print("Test set size:", X_test.shape[0])


 
