import pandas as pd

# Sample DataFrame with mixed data formats
data = {'Date': ['2021-01-15', '2021-02-20', '2021-03-25'],
        'Amount': ['$100.50', '200.75 USD', '300.00'],
        'Quantity': ['5', '3', '7.5 kg']}

df = pd.DataFrame(data)

# Display the original DataFrame
print("Original DataFrame:")
print(df)

# Standardize data formats
# Convert 'Date' column to datetime format
df['Date'] = pd.to_datetime(df['Date'])

# Remove non-numeric characters and convert 'Amount' column to float
df['Amount'] = df['Amount'].replace('[\$,]', '', regex=True)

# Remove non-numeric characters and convert 'Quantity' column to float
df['Quantity'] = df['Quantity'].replace('[a-zA-Z\,]', '', regex=True).astype(float)

# Display the DataFrame after standardizing data formats
print("\nDataFrame after standardizing data formats:")
print(df)



 
