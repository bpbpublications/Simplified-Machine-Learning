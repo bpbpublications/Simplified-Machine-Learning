import pandas as pd
import numpy as np

# Generate a large sample dataset
data = {'Feature1': np.random.rand(100000),
        'Feature2': np.random.rand(100000),
        'Feature3': np.random.rand(100000)}

df = pd.DataFrame(data)

# Display the size of the original dataset
print("Original Dataset Size:", df.shape)

# Randomly sample a fraction of the data (e.g., 10%)
sampled_df = df.sample(frac=0.10, random_state=42)

# Display the size of the reduced dataset
print("Reduced Dataset Size:", sampled_df.shape)


 

