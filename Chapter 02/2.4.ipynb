import pandas as pd
import numpy as np

# Sample DataFrame with outliers
data = {'A': [10, 20, 30, 120, 25, 40, 50, 200, 60, 70]}
df = pd.DataFrame(data)

# Display the original DataFrame
print("Original DataFrame:")
print(df)

# Identify outliers using the Interquartile Range (IQR) method
Q1 = df['A'].quantile(0.25)
Q3 = df['A'].quantile(0.75)
IQR = Q3 - Q1

lower_bound = Q1 - 1.5 * IQR
upper_bound = Q3 + 1.5 * IQR

# Cap outliers by replacing them with the upper or lower bound
df['A'] = np.where(df['A'] <lower_bound, lower_bound, df['A'])
df['A'] = np.where(df['A'] >upper_bound, upper_bound, df['A'])

# Display the DataFrame after handling outliers
print("\nDataFrame after handling outliers:")
print(df)



 
