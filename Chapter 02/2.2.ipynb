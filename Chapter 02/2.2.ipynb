import pandas as pd

# Sample DataFrame with duplicate values
data = {'A': [1, 2, 2, 3, 4],
        'B': ['X', 'Y', 'Y', 'Z', 'Z']}

df = pd.DataFrame(data)

# Display the original DataFrame
print("Original DataFrame:")
print(df)

# Identify duplicate rows
duplicates = df[df.duplicated()]

# Display duplicate rows
print("\nDuplicate Rows:")
print(duplicates)

# Remove duplicate rows (keep the first occurrence)
df_no_duplicates = df.drop_duplicates()

# Display the DataFrame without duplicates
print("\nDataFrame after removing duplicates:")
print(df_no_duplicates)

 
