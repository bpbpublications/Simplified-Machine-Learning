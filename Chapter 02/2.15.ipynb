import numpy as np
from sklearn.pre-processing import StandardScaler

# Sample data
data = np.array([[10, 20],
                 [15, 30],
                 [5, 10],
                 [25, 40]])

# Create a StandardScaler instance
scaler = StandardScaler()

# Fit the scaler to the data and transform the data
standardized_data = scaler.fit_transform(data)

# Display the standardized data
print("Standardized Data:")
print(standardized_data)



 
