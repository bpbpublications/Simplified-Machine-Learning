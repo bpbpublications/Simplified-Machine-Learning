import numpy as np

# Sample dataset with positive values
data = np.array([1, 2, 5, 10, 20, 50, 100])

# Logarithmic transformation
transformed_data = np.log(data)

# Display the original and transformed data
print("Original Data:")
print(data)

print("\nTransformed Data (Log Transformation):")
print(transformed_data)



 
