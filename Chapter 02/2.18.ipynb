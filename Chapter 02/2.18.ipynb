import pandas as pd

# Sample data
data = {'Age': [25, 30, 35, 40, 45, 50, 55, 60, 65, 70],
        'Income': [50000, 60000, 75000, 80000, 90000, 100000, 110000, 120000, 130000, 140000]}

df = pd.DataFrame(data)

# Display the original DataFrame
print("Original DataFrame:")
print(df)

# Binning and Discretization for 'Age'
age_bins = [20, 40, 60, 80]  # Define bin edges
age_labels = ['Young', 'Mid-Age', 'Old']  # Labels for bins
df['Age Group'] = pd.cut(df['Age'], bins=age_bins, labels=age_labels)

# Binning and Discretization for 'Income'
income_bins = [40000, 80000, 120000, 160000]  # Define bin edges
income_labels = ['Low', 'Medium', 'High']  # Labels for bins
df['Income Level'] = pd.cut(df['Income'], bins=income_bins, labels=income_labels)

# Display the DataFrame after binning and discretization
print("\nDataFrame after Binning and Discretization:")
print(df)



 
