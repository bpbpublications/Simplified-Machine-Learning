import pandas as pd

# Sample data from two different sources
data_source1 = {'ID': [1, 2, 3],
                'Name': ['Alice', 'Bob', 'Carol']}
data_source2 = {'ID': [4, 5, 6],
                'Name': ['Dave', 'Eve', 'Frank']}

# Create DataFrames from the two sources
df1 = pd.DataFrame(data_source1)
df2 = pd.DataFrame(data_source2)

# Concatenate or merge the DataFrames to perform data integration
integrated_df = pd.concat([df1, df2], ignore_index=True)

# Display the integrated DataFrame
print(integrated_df)



 
