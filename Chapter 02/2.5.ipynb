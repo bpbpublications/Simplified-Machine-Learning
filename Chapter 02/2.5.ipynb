import numpy as np
import matplotlib.pyplot as plt
from scipy.ndimage import gaussian_filter1d

# Generate a noisy signal
np.random.seed(42)
t = np.linspace(0, 1, 100)
signal = np.sin(2 * np.pi * 5 * t) + 0.2 * np.random.randn(100)

# Add impulsive noise (spikes)
signal[30] += 2.0
signal[70] -= 1.5

# Plot the original signal with noise
plt.figure(figsize=(10, 4))
plt.subplot(1, 2, 1)
plt.plot(t, signal, label='Original Signal with Noise')
plt.title('Original Signal with Noise')
plt.xlabel('Time')
plt.ylabel('Amplitude')
plt.legend()

# Apply Gaussian filter for noise reduction
smoothed_signal = gaussian_filter1d(signal, sigma=1)

# Plot the smoothed signal
plt.subplot(1, 2, 2)
plt.plot(t, smoothed_signal, label='Smoothed Signal')
plt.title('Smoothed Signal (Noise Reduction)')
plt.xlabel('Time')
plt.ylabel('Amplitude')
plt.legend()

plt.tight_layout()
plt.show()

 

