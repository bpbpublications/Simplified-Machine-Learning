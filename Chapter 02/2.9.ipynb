import pandas as pd

# Sample DataFrame with a datetime column
data = {'Date': ['2022-01-15', '2022-02-20', '2022-03-25'],
        'Event': ['Event A', 'Event B', 'Event C']}

df = pd.DataFrame(data)

# Convert 'Date' column to datetime format
df['Date'] = pd.to_datetime(df['Date'])

# Display the original DataFrame
print("Original DataFrame:")
print(df)

# Datetime transformations
# Extract year, month, and day
df['Year'] = df['Date'].dt.year
df['Month'] = df['Date'].dt.month
df['Day'] = df['Date'].dt.day

# Calculate time duration since a reference date
reference_date = pd.to_datetime('2022-01-01')
df['Days Since Reference'] = (df['Date'] - reference_date).dt.days

# Display the DataFrame after datetime transformations
print("\nDataFrame after Datetime Transformations:")
print(df)



 
