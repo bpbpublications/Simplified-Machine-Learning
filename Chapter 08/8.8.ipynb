import numpy as np
import tensorflow as tf
from tensorflow.keras.layers import Input, Dense
from tensorflow.keras.models import Model

# Generate synthetic data
np.random.seed(42)
data = np.random.random((1000, 100))

# Build the autoencoder model
input_layer = Input(shape=(100,))
encoded = Dense(50, activation='relu')(input_layer)
decoded = Dense(100, activation='sigmoid')(encoded)

autoencoder = Model(input_layer, decoded)

# Compile the autoencoder
autoencoder.compile(optimizer='adam', loss='binary_crossentropy')

# Train the autoencoder
autoencoder.fit(data, data, epochs=10, batch_size=32, validation_split=0.2)

# Encode and decode the data
encoded_data = autoencoder.predict(data)

# Display original and reconstructed data
print("Original Data:")
print(data[0])
print("Reconstructed Data:")
print(encoded_data[0])


 

