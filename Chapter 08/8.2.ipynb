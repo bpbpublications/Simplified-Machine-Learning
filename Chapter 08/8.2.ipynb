import tensorflow as tf
from tensorflow.keras.models import Sequential
from tensorflow.keras.layers import Dense

# Define the model
model = Sequential()

# Add input layer with 2 neurons and specify input shape (assuming 2 features)
model.add(Dense(units=2, input_shape=(2,), activation='relu'))

# Add a hidden layer with 4 neurons
model.add(Dense(units=4, activation='relu'))

# Add output layer with 1 neuron (binary classification) and sigmoid activation
model.add(Dense(units=1, activation='sigmoid'))

# Compile the model with binary cross-entropy loss and Adam optimizer
model.compile(loss='binary_crossentropy', optimizer='adam', metrics=['accuracy'])

# Example data
X_train = np.array([[0, 0], [0, 1], [1, 0], [1, 1]])
y_train = np.array([0, 1, 1, 0])

# Train the model
model.fit(X_train, y_train, epochs=1000, verbose=0)

# Test the model
X_test = np.array([[0, 0], [0, 1], [1, 0], [1, 1]])
predictions = model.predict(X_test)

for i, input_data in enumerate(X_test):
    prediction = predictions[i][0]
    print(f"Input: {input_data}, Prediction: {prediction:.4f}")


 
