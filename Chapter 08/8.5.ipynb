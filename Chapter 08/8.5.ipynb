import numpy as np
import tensorflow as tf
from tensorflow.keras.models import Sequential
from tensorflow.keras.layers import SimpleRNN, Dense

# Generate synthetic data
np.random.seed(42)
timesteps = 10
input_features = 1
X_train = np.random.random((1000, timesteps, input_features))
y_train = np.sin(np.arange(1000) / 10).reshape(-1, 1)

# Build the RNN model
model = Sequential()
model.add(SimpleRNN(32, activation='relu', input_shape=(timesteps, input_features)))
model.add(Dense(1))

# Compile the model
model.compile(optimizer='adam', loss='mse', metrics=['mae'])

# Train the model
model.fit(X_train, y_train, epochs=10, batch_size=32, validation_split=0.2)

# Generate test data
X_test = np.random.random((100, timesteps, input_features))
y_test = np.sin(np.arange(1000, 1100) / 10).reshape(-1, 1)

# Evaluate the model on the test set
test_loss, test_mae = model.evaluate(X_test, y_test)
print(f"Test Mean Absolute Error: {test_mae}")

 
