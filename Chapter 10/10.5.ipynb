# Bar plot of categorical values

plt.figure(figsize=(12, 8))
sns.set(style="whitegrid")  # seaborn stili
for i, category in enumerate(cat_col):
    plt.subplot(3, 3, i + 1)
    sns.countplot(x=categoory, data=data, palette='colorblind')
    plt.subplots_adjust(hspace=0.5, bottom=0.1)
    plt.tight_layout()
    
    for p in plt.gca().patches:
        plt.gca().annotate(f'{p.get_height()}', (p.get_x() + p.get_width() / 2., p.get_height()), ha='center', va='center', xytext=(0, 10), textcoords='offset points')
