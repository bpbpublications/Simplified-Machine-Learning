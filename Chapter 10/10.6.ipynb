# Box plot of numerical values

plt.figure(figsize=(12, 8))
sns.set(style="whitegrid")  # seaborn stili

for var in num_cols:
    plt.figure(figsize=(6, 4))
    sns.set(style="whitegrid")  # seaborn stili
    sns.boxplot(x=data[var], palette='colorblind')
    plt.title(f'Boxplot of {var}')
    plt.show()
