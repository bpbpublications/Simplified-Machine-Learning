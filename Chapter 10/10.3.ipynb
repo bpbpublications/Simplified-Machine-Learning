# detailed observations of the dataset are retrieved by the following #function 
def grab_col_name(data,cat_nbr=10, car_nbr=20):
    cat_col = [col for col in data.columns if data[col].dtypes =="O"]
    num_but_cat= [col for col in data.columns if data[col].dtypes !="O" and data[col].nunique()<cat_nbr]
    cat_but_car =[col for col in data.columns if data[col].dtypes == 'O'and data[col].nunique()>car_th]
    cat_col=cat_col+num_but_cat
    cat_col = [col for col in cat_col if col not in cat_but_car]
    num_cols = [col for col in data.columns if data[col].dtypes !="O"]
    num_cols = [col for col in num_cols if col not in num_but_cat]
     
    
    print(f"Observations:{data.shape[0]}")
    print(f"Variables:{data.shape[1]}")
    print(f"Categorical Cols:{len(cat_col)}")
    print(f"Numerical Cols:{len(num_cols)}")
    print(f"Numerical But Assume as Cat Cols:{len(num_but_cat)}")
    print(f"Categorical But Assume as Car Cols:{len(cat_but_car)}")
    
    return cat_col,num_cols,cat_but_car

cat_col,num_cols,cat_but_car = grab_col_name(data) #function call
