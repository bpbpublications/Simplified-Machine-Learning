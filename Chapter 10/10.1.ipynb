import pandas as pd
from sklearn.model_selection import train_test_split
from sklearn.metrics import accuracy_score, classification_report

# Load the dataset
data = pd.read_csv('e:/dataset/heart.csv')  # heart.csv dataset is read into a dataframe named data
data.info()  #the information of the dataset is retrieved 
