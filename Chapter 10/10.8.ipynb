#Spearsman Rank Correlation of each column with every other column of dataset

import pandas as pd
import seaborn as sns

# Load the heart disease dataset
heart_data = pd.read_csv('e:/dataset/heart.csv')  # Replace 'heart_disease_dataset.csv' with your dataset filename

# Compute the Spearman rank correlation
spearman_corr = heart_data.corr(method='spearman')

# Draw a correlation plot using seaborn
sns.heatmap(spearman_corr, annot=True, cmap='coolwarm', fmt=".01f")

import pandas as pd
import seaborn as sns

# Load the heart disease dataset
heart_data = pd.read_csv('e:/dataset/heart.csv')  # Replace 'heart_disease_dataset.csv' with your dataset filename

# Compute the Spearman rank correlation
spearman_corr = heart_data.corr(method='spearman')

# Draw a correlation plot using seaborn
sns.heatmap(spearman_corr, annot=True, cmap='coolwarm', fmt=".01f")
