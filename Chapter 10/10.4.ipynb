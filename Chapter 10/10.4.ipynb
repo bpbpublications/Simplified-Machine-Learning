# Histogram of numerical values

import matplotlib.pyplot as plt
import seaborn as sns
from scipy import stats

row_num = 3
col_num =2

fig,ax = plt.subplots(row_num,col_num,figsize = (12,8))


for i in range(row_num):
    for j in range(col_num):
        if i*col_num+j<len(num_cols):
            var = num_cols[i*col_num+j]
            sns.histplot(data[var],ax=ax[i,j],color="orange")
            ax[i, j].set_title(f'Histogram of {var}')
            ax[i, j].tick_params(axis='x', rotation=90)
            mod_deger = data[var].mode().values[0]
            mean = data[var].mean()
            median = data[var].median()
            skewness = stats.skew(data[var])
    
    
            
            ax[i, j].text(0.8, 1.1, f'Skewness: {skewness:.2f}', ha='left', va='top', transform=ax[i, j].transAxes, color='blue')
            ax[i, j].axvline(x=mod_deger, color='blue', linestyle='--', label=f'Mod: {mod_deger}')
            ax[i, j].axvline(x=median, color='green', linestyle='--', label=f'Median: {median:.2f}')
            ax[i, j].axvline(x=mean, color='red', linestyle='--', label=f'Mean: {mean:.2f}')
            ax[i, j].legend()

            plt.tight_layout()
            
            plt.subplots_adjust(hspace=1)
            
for i in range(len(cat_col), row_num * col_num):
    fig.delaxes(axes.flatten()[i])

