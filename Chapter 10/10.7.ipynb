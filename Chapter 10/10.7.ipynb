#check the association of every column of dataset with the target column

from scipy.stats import chi2_contingency

def chi2_test(df,col,target,treshold=0.05):
    
    """
    Function that performs the Chi-Square test.
    
    Parameters:
    - data: DataFrame, the dataset
    - variable1: str, name of the first categorical variable
    - variable2: str, name of the second categorical variable
    
    Output:
    - chi2: float, Chi-Square statistic
    - p: float, p-value
    - dof: int, degrees of freedom
    - expected: array, expected frequencies
    """
    
    rlt_cat = []
    
    no_rlt_cat=[]
    
    for cat in col:
        
        contingency_table = pd.crosstab(df[cat], df[target])    
        chi2, p, dof, expected = chi2_contingency(contingency_table)
        if p<treshold:
            print(f"There is association between the variables {cat} and {target} in the population.\n")
            rlt_cat.append(cat)
            
        else:
            print(f"There is no association between the variables {cat} and {target} in the population.\n")
            no_rlt_cat.append(cat)
            

    return rlt_cat, no_rlt_cat

cat_col1 =[col for col in cat_col if col != "target"]
rlt_cat, no_rlt_cat  = chi2_test(data,cat_col1,"target")
