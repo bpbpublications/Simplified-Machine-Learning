import numpy as np
from sklearn.metrics import mean_absolute_error, mean_squared_error, r2_score

# Sample actual and predicted values
actual_values = np.array([5, 10, 15, 20, 25])
predicted_values = np.array([6, 12, 14, 18, 24])

# Mean Absolute Error (MAE)
mae = mean_absolute_error(actual_values, predicted_values)
print("Mean Absolute Error (MAE):", mae)

# Mean Squared Error (MSE)
mse = mean_squared_error(actual_values, predicted_values)
print("Mean Squared Error (MSE):", mse)

# Root Mean Squared Error (RMSE)
rmse = np.sqrt(mse)
print("Root Mean Squared Error (RMSE):", rmse)

# R-squared (R²) Score
r_squared = r2_score(actual_values, predicted_values)
print("R-squared (R²) Score:", r_squared)


 

