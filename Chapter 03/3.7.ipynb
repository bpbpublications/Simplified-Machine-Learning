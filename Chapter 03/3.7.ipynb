# Calculate Mean Absolute Percentage Error (MAPE)
mape = np.mean(np.abs((actual_values - predicted_values) / actual_values)) * 100
print("Mean Absolute Percentage Error (MAPE):", mape)

