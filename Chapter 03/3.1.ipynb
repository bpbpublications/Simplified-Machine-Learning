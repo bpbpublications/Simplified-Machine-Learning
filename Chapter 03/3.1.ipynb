import numpy as np
from sklearn.linear_model import LinearRegression
import matplotlib.pyplot as plt

# Sample data (independent variable X and dependent variable Y)
X = np.array([1, 2, 3, 4, 5])
Y = np.array([2, 4, 5, 4, 5])

# Reshape X to a 2D array (required for scikit-learn)
X = X.reshape(-1, 1)

# Create a linear regression model
model = LinearRegression()

# Fit the model to the data
model.fit(X, Y)

# Make predictions using the trained model
Y_pred = model.predict(X)

# Plot the original data and the regression line
plt.scatter(X, Y, label='Data')
plt.plot(X, Y_pred, color='red', label='Regression Line')
plt.xlabel('X')
plt.ylabel('Y')
plt.legend()
plt.show()

# Get the regression coefficients (intercept and slope)
intercept = model.intercept_
slope = model.coef_[0]

print(f'Intercept (β0): {intercept}')
print(f'Slope (β1): {slope}')


 

