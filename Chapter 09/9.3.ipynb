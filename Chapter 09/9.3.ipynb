import numpy as np

def softmax_action_selection(Q_values, temperature):
    # Convert Q-values to NumPy array
    Q_values = np.array(Q_values)
    
    # Compute softmax probabilities
    exp_values = np.exp(Q_values / temperature)
    probabilities = exp_values / np.sum(exp_values)
    
    # Sample an action based on the probabilities
    action = np.random.choice(len(Q_values), p=probabilities)
    
    return action

# Example usage
Q_values = [1.2, 2.5, 0.8]  # Q-values for three actions
temperature = 0.5  # Temperature parameter
action = softmax_action_selection(Q_values, temperature)
print("Selected action:", action)


 
