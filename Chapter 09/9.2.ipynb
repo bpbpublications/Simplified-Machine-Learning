import random

class EpsilonGreedyAgent:
    def __init__(self, epsilon):
        self.epsilon = epsilon

    def select_action(self, q_values):
        if random.random() < self.epsilon:
            return random.randint(0, len(q_values) - 1)  # Explore
        else:
            return max(range(len(q_values)), key=lambda i: q_values[i])  # Exploit

# Example usage
epsilon = 0.1  # Set the value of epsilon
agent = EpsilonGreedyAgent(epsilon)

# Q-values for each action (e.g., from a Q-table or neural network)
q_values = [0.2, 0.5, 0.8]

# Select an action using the epsilon-greedy policy
action = agent.select_action(q_values)
print("Selected Action:", action)



 
