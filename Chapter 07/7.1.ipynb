from mlxtend.frequent_patterns import apriori
from mlxtend.preprocessing import TransactionEncoder
import pandas as pd

# Sample transaction dataset
transactions = [
    ['bread', 'milk', 'eggs'],
    ['bread', 'butter', 'eggs'],
    ['milk', 'butter', 'eggs'],
    ['bread', 'milk', 'butter', 'eggs'],
    ['bread', 'milk', 'butter']
]

# Convert transactions to one-hot encoding format
te = TransactionEncoder()
te_ary = te.fit(transactions).transform(transactions)
df = pd.DataFrame(te_ary, columns=te.columns_)

# Applying Apriori algorithm to find frequent itemsets
min_support = 0.2
frequent_itemsets = apriori(df, min_support=min_support, use_colnames=True)

# Displaying the frequent itemsets
print("Frequent Itemsets:")
print(frequent_itemsets)

# Generating association rules
from mlxtend.frequent_patterns import association_rules

# Specify the metric and threshold for generating rules
rules = association_rules(frequent_itemsets, metric="confidence", min_threshold=0.7)

# Displaying the association rules
print("\nAssociation Rules:")
print(rules)

 
