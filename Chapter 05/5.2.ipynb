import matplotlib.pyplot as plt
from sklearn.cluster import AgglomerativeClustering
import numpy as np

# Generate example data
data = np.array([[2, 3], [5, 7], [8, 8], [3, 4], [4, 5], [10, 11], [8, 9], [2, 2], [9, 8], [8, 10]])

# Create an AgglomerativeClustering model with the desired number of clusters (n_clusters)
n_clusters = 3
model = AgglomerativeClustering(n_clusters)

# Fit the model to the data and obtain cluster assignments
labels = model.fit_predict(data)

# Visualize the data and dendrogram
plt.figure(figsize=(8, 5))
plt.scatter(data[:, 0], data[:, 1], c=labels, cmap='viridis', marker='o', s=100)
plt.title(f'Hierarchical Clustering with {n_clusters} Clusters')
plt.show()


 
