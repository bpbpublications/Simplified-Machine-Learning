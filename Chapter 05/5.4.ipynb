from sklearn.cluster import OPTICS
from sklearn.datasets import make_blobs
import matplotlib.pyplot as plt

# Generate sample data
X, _ = make_blobs(n_samples=300, centers=3, random_state=42)

# Fit OPTICS clustering model
clustering = OPTICS(min_samples=5, xi=0.05, min_cluster_size=0.05)
clustering.fit(X)

# Plotting the reachability plot
reachability = clustering.reachability_[clustering.ordering_]
labels = clustering.labels_[clustering.ordering_]

plt.figure(figsize=(12, 6))

# Reachability plot
plt.subplot(1, 2, 1)
plt.plot(reachability, marker='.')
plt.title('Reachability Plot')
plt.xlabel('Ordered Points')
plt.ylabel('Reachability Distance')

# OPTICS clustering result
plt.subplot(1, 2, 2)
colors = [plt.cm.Spectral(each) for each in labels]
plt.scatter(X[:, 0], X[:, 1], c=colors, edgecolors='k', s=50)
plt.title('OPTICS Clustering Result')

plt.show()


 
