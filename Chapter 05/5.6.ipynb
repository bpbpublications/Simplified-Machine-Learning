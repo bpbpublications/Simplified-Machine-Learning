import numpy as np
from sklearn.ensemble import IsolationForest
import matplotlib.pyplot as plt

# Generate a synthetic dataset with anomalies
np.random.seed(42)
X = 0.3 * np.random.randn(100, 2)
X = np.r_[X, 2 + 0.3 * np.random.randn(10, 2)]  # Add anomalies
X = np.r_[X, -2 + 0.3 * np.random.randn(10, 2)]  # Add anomalies

# Create an Isolation Forest model
clf = IsolationForest(contamination=0.1, random_state=42)

# Fit the model to the data
clf.fit(X)

# Predict anomalies (outliers)
y_pred = clf.predict(X)

# Visualize the data and anomalies
plt.scatter(X[:, 0], X[:, 1], c=y_pred, cmap='viridis', marker='o')
plt.title('Isolation Forest Anomaly Detection')
plt.show()

 
