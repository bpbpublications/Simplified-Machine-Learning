import matplotlib.pyplot as plt
from sklearn.cluster import KMeans
import numpy as np

# Generate example data
data = np.array([[2, 3], [5, 7], [8, 8], [3, 4], [4, 5], [10, 11], [8, 9], [2, 2], [9, 8], [8, 10]])

# Specify the number of clusters (K)
k = 3

# Create a K-Means model
kmeans = KMeans(n_clusters=k)

# Fit the model to the data
kmeans.fit(data)

# Get cluster assignments for each data point
labels = kmeans.labels_

# Get cluster centers
centers = kmeans.cluster_centers_

# Plot the data points and cluster centers
plt.scatter(data[:, 0], data[:, 1], c=labels, cmap='viridis', marker='o', s=100)
plt.scatter(centers[:, 0], centers[:, 1], c='red', marker='X', s=200)
plt.title(f'K-Means Clustering with K={k}')
plt.show()

# Display cluster assignments
for i in range(k):
    print(f'Cluster {i + 1} contains the following data points:')
    cluster_points = data[labels == i]
    print(cluster_points)
    print()


 
