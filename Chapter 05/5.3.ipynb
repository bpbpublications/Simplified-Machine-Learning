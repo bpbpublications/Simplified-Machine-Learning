import matplotlib.pyplot as plt
from sklearn.cluster import DBSCAN
from sklearn.datasets import make_moons

# Generate a synthetic dataset
X, _ = make_moons(n_samples=200, noise=0.05, random_state=0)

# Create a DBSCAN model with the desired parameters (eps and min_samples)
dbscan = DBSCAN(eps=0.3, min_samples=5)

# Fit the model to the data and obtain cluster assignments
labels = dbscan.fit_predict(X)

# Visualize the clusters
plt.scatter(X[:, 0], X[:, 1], c=labels, cmap='viridis', marker='o')
plt.title('DBSCAN Clustering')
plt.show()

 
